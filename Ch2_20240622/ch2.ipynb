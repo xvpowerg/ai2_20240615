{
 "cells": [
  {
   "cell_type": "markdown",
   "metadata": {},
   "source": [
    "## Importing NumPy"
   ]
  },
  {
   "cell_type": "code",
   "execution_count": 10,
   "metadata": {},
   "outputs": [],
   "source": [
    "import numpy as np"
   ]
  },
  {
   "cell_type": "markdown",
   "metadata": {},
   "source": [
    "NumPy陣列是我們在課程中將使用NumPy的主要方式。NumPy陣列基本上有兩種類型：向量和矩陣。向量是嚴格的一維（1D）陣列，而矩陣是二維的（但你應該注意，矩陣仍然可以只有一行或一列）。\n",
    "\n",
    "## 為什麼使用Numpy陣列？為什麼不只是使用列表？\n",
    "\n",
    "使用Numpy陣列而不是“標準”Python列表對我們來說有很多原因。我們的主要原因包括：\n",
    "* Numpy陣列的內存效率比列表高\n",
    "* 能夠輕鬆擴展到N維對象\n",
    "* Numpy陣列的計算速度快\n",
    "* 使用Numpy進行廣播操作和函數\n",
    "* 我們使用的所有數據科學和機器學習庫都是使用Numpy構建的\n",
    "\n",
    "## Numpy陣列可以做什麼的簡單示例\n",
    "\n",
    "這是使用Numpy陣列的一個簡單示例，它可以做到什麼程度。\n",
    "\n",
    "支持GPU\n",
    "\n",
    "https://blog.csdn.net/sinat_29957455/article/details/107072991"
   ]
  },
  {
   "cell_type": "code",
   "execution_count": 11,
   "metadata": {},
   "outputs": [
    {
     "name": "stdout",
     "output_type": "stream",
     "text": [
      "<class 'list'>\n",
      "<class 'numpy.ndarray'>\n"
     ]
    }
   ],
   "source": [
    "my_list = [1,2,3]\n",
    "my_array = np.array(my_list)\n",
    "print(type(my_list))\n",
    "print(type(my_array))"
   ]
  },
  {
   "cell_type": "markdown",
   "metadata": {},
   "source": [
    "### arange"
   ]
  },
  {
   "cell_type": "code",
   "execution_count": 12,
   "metadata": {},
   "outputs": [
    {
     "name": "stdout",
     "output_type": "stream",
     "text": [
      "[0 1 2 3 4 5 6 7 8 9]\n",
      "[1 2 3 4 5]\n",
      "[1 3 5 7 9]\n",
      "[10  8  6  4  2  0]\n"
     ]
    }
   ],
   "source": [
    "v1 = np.arange(10)\n",
    "print(v1)\n",
    "v2 = np.arange(1,6)\n",
    "print(v2)\n",
    "v3 = np.arange(1,10,2)\n",
    "print(v3)\n",
    "v4 = np.arange(10,-2,-2)\n",
    "print(v4)"
   ]
  },
  {
   "cell_type": "markdown",
   "metadata": {},
   "source": [
    "### linspace "
   ]
  },
  {
   "cell_type": "code",
   "execution_count": 19,
   "metadata": {},
   "outputs": [
    {
     "name": "stdout",
     "output_type": "stream",
     "text": [
      "<class 'numpy.ndarray'>\n",
      "[ 1.          1.09090909  1.18181818  1.27272727  1.36363636  1.45454545\n",
      "  1.54545455  1.63636364  1.72727273  1.81818182  1.90909091  2.\n",
      "  2.09090909  2.18181818  2.27272727  2.36363636  2.45454545  2.54545455\n",
      "  2.63636364  2.72727273  2.81818182  2.90909091  3.          3.09090909\n",
      "  3.18181818  3.27272727  3.36363636  3.45454545  3.54545455  3.63636364\n",
      "  3.72727273  3.81818182  3.90909091  4.          4.09090909  4.18181818\n",
      "  4.27272727  4.36363636  4.45454545  4.54545455  4.63636364  4.72727273\n",
      "  4.81818182  4.90909091  5.          5.09090909  5.18181818  5.27272727\n",
      "  5.36363636  5.45454545  5.54545455  5.63636364  5.72727273  5.81818182\n",
      "  5.90909091  6.          6.09090909  6.18181818  6.27272727  6.36363636\n",
      "  6.45454545  6.54545455  6.63636364  6.72727273  6.81818182  6.90909091\n",
      "  7.          7.09090909  7.18181818  7.27272727  7.36363636  7.45454545\n",
      "  7.54545455  7.63636364  7.72727273  7.81818182  7.90909091  8.\n",
      "  8.09090909  8.18181818  8.27272727  8.36363636  8.45454545  8.54545455\n",
      "  8.63636364  8.72727273  8.81818182  8.90909091  9.          9.09090909\n",
      "  9.18181818  9.27272727  9.36363636  9.45454545  9.54545455  9.63636364\n",
      "  9.72727273  9.81818182  9.90909091 10.        ]\n"
     ]
    }
   ],
   "source": [
    "v1 = np.linspace(1,10,100)\n",
    "print(type(v1))\n",
    "print(v1)"
   ]
  },
  {
   "cell_type": "markdown",
   "metadata": {},
   "source": [
    "## Random \n",
    "NumPy也有許多方法來創建隨機數陣列："
   ]
  },
  {
   "cell_type": "code",
   "execution_count": 38,
   "metadata": {},
   "outputs": [
    {
     "name": "stdout",
     "output_type": "stream",
     "text": [
      "[0.22934139 0.7045024  0.15642436]\n",
      "============================\n",
      "[[0.61848177 0.03375296 0.19885091 0.14880327 0.36516816]\n",
      " [0.166806   0.53764665 0.95317081 0.91265376 0.14438378]\n",
      " [0.70137097 0.08157755 0.03356715 0.08320344 0.67352487]\n",
      " [0.19349674 0.84719774 0.5087997  0.14444208 0.50308628]\n",
      " [0.92368538 0.37116939 0.67319305 0.59783233 0.75627825]]\n",
      "============================\n",
      "[[0.57882657 0.94712415]\n",
      " [0.64885122 0.50410699]\n",
      " [0.65184664 0.37510222]]\n",
      "0.5601007186825044\n",
      "0.2967286397816134\n"
     ]
    }
   ],
   "source": [
    "print(np.random.random(3))\n",
    "print(\"============================\")\n",
    "#0~1之間的數字\n",
    "print(np.random.rand(5,5))\n",
    "print(\"============================\")\n",
    "print(np.random.rand(3,2))\n",
    "v1 = np.random.rand(5,5)\n",
    "print(v1.mean())\n",
    "print(v1.std())"
   ]
  },
  {
   "cell_type": "markdown",
   "metadata": {},
   "source": [
    "### randn\n",
    "標準正態分佈是一種特殊的常態分佈，其平均數（μ）為0，標準差（σ）為1。在標準正態分佈中，數據點主要集中在平均值附近，並且隨著距離平均值的增加而呈指數下降。這種分佈的曲線形狀呈鐘形，並且在平均值附近有一個尖峰。\n",
    "在機器學習和統計學中，標準正態分佈通常用於建模和分析，並且在許多算法和技術中被廣泛應用。"
   ]
  },
  {
   "cell_type": "code",
   "execution_count": 27,
   "metadata": {},
   "outputs": [
    {
     "data": {
      "text/plain": [
       "array([1.6331067 , 1.02515126])"
      ]
     },
     "execution_count": 27,
     "metadata": {},
     "output_type": "execute_result"
    }
   ],
   "source": [
    "np.random.randn(2)"
   ]
  },
  {
   "cell_type": "code",
   "execution_count": 37,
   "metadata": {},
   "outputs": [
    {
     "name": "stdout",
     "output_type": "stream",
     "text": [
      "-0.123143845156643\n",
      "0.9826042718415908\n"
     ]
    }
   ],
   "source": [
    "v1 = np.random.randn(5,5 )\n",
    "\n",
    "print(v1.mean())\n",
    "print(v1.std())"
   ]
  },
  {
   "cell_type": "markdown",
   "metadata": {},
   "source": [
    "### randint\n",
    "\n",
    "從`low`（包含）到`high`（不包含）return隨機整數。 "
   ]
  },
  {
   "cell_type": "code",
   "execution_count": 50,
   "metadata": {},
   "outputs": [
    {
     "name": "stdout",
     "output_type": "stream",
     "text": [
      "16\n",
      "[50 48 65  5 77 20 64 94 32 54]\n"
     ]
    }
   ],
   "source": [
    "v1 = np.random.randint(1,100)\n",
    "print(v1)\n",
    "v2 = np.random.randint(1,100,10)\n",
    "print(v2)"
   ]
  },
  {
   "cell_type": "code",
   "execution_count": 58,
   "metadata": {},
   "outputs": [
    {
     "name": "stdout",
     "output_type": "stream",
     "text": [
      "[56 14  2 38 97  9 75 82 66 49]\n"
     ]
    }
   ],
   "source": [
    "#replace=False 不會重複抽\n",
    "myData = range(1,100)\n",
    "v3 = np.random.choice(myData,10,replace=False)\n",
    "print(v3)\n"
   ]
  },
  {
   "cell_type": "code",
   "execution_count": 83,
   "metadata": {},
   "outputs": [
    {
     "name": "stdout",
     "output_type": "stream",
     "text": [
      "[ 1  2  3  4  5  6  7  8  9 10 11 12 13 14 15 16 17 18 19 20 21 22 23 24\n",
      " 25 26 27 28 29 30 31 32 33 34 35 36 37 38 39 40 41 42 43 44 45 46 47 48\n",
      " 49 50 51 52 53 54 55 56 57 58 59 60 61 62 63 64 65 66 67 68 69 70 71 72\n",
      " 73 74 75 76 77 78 79 80 81 82 83 84 85 86 87 88 89 90 91 92 93 94 95 96\n",
      " 97 98 99]\n",
      "[49 29 85 83 15 10 43 22 66 93 45 27 61 13 21 47 46 41 14 62 54 51 71 94\n",
      " 58  6  4  8 84 72 63 34 65 82 81 74 48 88 87  9 89 37  5 12 60 95 26 78\n",
      "  7 35 42 30 31 23 50 25 57 28 79 98 64 18 39 40 33 52 77 86 67 99 36 76\n",
      " 20  3 80 59 73 16 11 92 69 24 38 17 56 75 55 68 91 70 32 90 44 53  2 19\n",
      "  1 97 96]\n"
     ]
    }
   ],
   "source": [
    "#洗牌\n",
    "arr = np.arange(1,100)\n",
    "print(arr)\n",
    "np.random.shuffle(arr)\n",
    "print(arr)"
   ]
  },
  {
   "cell_type": "markdown",
   "metadata": {},
   "source": [
    "### seed\n",
    "可以用來設置隨機狀態，以便可以重現相同的“隨機”結果"
   ]
  },
  {
   "cell_type": "code",
   "execution_count": 87,
   "metadata": {},
   "outputs": [
    {
     "data": {
      "text/plain": [
       "array([0.98419185, 0.33341227, 0.67370162, 0.19639042])"
      ]
     },
     "execution_count": 87,
     "metadata": {},
     "output_type": "execute_result"
    }
   ],
   "source": [
    "np.random.seed(42)\n",
    "np.random.rand(4)"
   ]
  },
  {
   "cell_type": "code",
   "execution_count": 85,
   "metadata": {},
   "outputs": [
    {
     "name": "stdout",
     "output_type": "stream",
     "text": [
      "[ 1  2  3  4  5  6  7  8  9 10 11 12 13 14 15 16 17 18 19 20 21 22 23 24\n",
      " 25 26 27 28 29 30 31 32 33 34 35 36 37 38 39 40 41 42 43 44 45 46 47 48\n",
      " 49 50 51 52 53 54 55 56 57 58 59 60 61 62 63 64 65 66 67 68 69 70 71 72\n",
      " 73 74 75 76 77 78 79 80 81 82 83 84 85 86 87 88 89 90 91 92 93 94 95 96\n",
      " 97 98 99]\n",
      "[24 79 43 63 49 51 59 61  5 39 83  7 94 28 57 69  3 41 40  6 48 53  8 75\n",
      " 46 47  1 93 27 90 68 10 36 76 97 74 89 22 73 92 78  4 99 84  2 19 82 54\n",
      " 26 62 60 52 72 64 50 85 18 71 77 95 37 31 55 30  9 33 45 21 14 17 66 87\n",
      " 42 70 20 80 98 96 38 29 32 11 34 81 12 44 67 13 25 56 91 58 23 88 15 35\n",
      " 65 16 86]\n"
     ]
    }
   ],
   "source": [
    "#洗牌\n",
    "np.random.seed(42)\n",
    "arr = np.arange(1,100)\n",
    "print(arr)\n",
    "np.random.shuffle(arr)\n",
    "print(arr)"
   ]
  },
  {
   "cell_type": "markdown",
   "metadata": {},
   "source": [
    "## 陣列屬性和方法\n",
    "討論一些陣列的有用屬性和方法："
   ]
  },
  {
   "cell_type": "code",
   "execution_count": 97,
   "metadata": {},
   "outputs": [
    {
     "name": "stdout",
     "output_type": "stream",
     "text": [
      "[ 0  1  2  3  4  5  6  7  8  9 10 11 12 13 14 15 16 17 18 19 20 21 22 23\n",
      " 24]\n",
      "(25,)\n"
     ]
    }
   ],
   "source": [
    "arr1 = np.arange(25)\n",
    "print(arr1)\n",
    "print(arr1.shape)\n"
   ]
  },
  {
   "cell_type": "markdown",
   "metadata": {},
   "source": [
    "## Reshape\n",
    "返回一個包含相同數據但具有新形狀的陣列。"
   ]
  },
  {
   "cell_type": "code",
   "execution_count": 98,
   "metadata": {},
   "outputs": [
    {
     "name": "stdout",
     "output_type": "stream",
     "text": [
      "[[100   1   2   3   4]\n",
      " [  5   6   7   8   9]\n",
      " [ 10  11  12  13  14]\n",
      " [ 15  16  17  18  19]\n",
      " [ 20  21  22  23  24]]\n",
      "(5, 5)\n",
      "[100   1   2   3   4   5   6   7   8   9  10  11  12  13  14  15  16  17\n",
      "  18  19  20  21  22  23  24]\n",
      "1965860856688\n",
      "1965860247888\n"
     ]
    }
   ],
   "source": [
    "arr2 = arr.reshape(5,5)\n",
    "\n",
    "print(arr2)\n",
    "print(arr2.shape)\n",
    "arr2[0][0] = 100\n",
    "print(arr)\n",
    "\n",
    "print(id(arr2))\n",
    "print(id(arr1))"
   ]
  },
  {
   "cell_type": "code",
   "execution_count": 107,
   "metadata": {},
   "outputs": [
    {
     "name": "stdout",
     "output_type": "stream",
     "text": [
      "[ 0  1  2  3  4  5  6  7  8  9 10 11 12 13 14 15 16 17 18 19 20 21 22 23\n",
      " 24]\n",
      "(25,)\n",
      "[[ 0  1  2  3  4]\n",
      " [ 5  6  7  8  9]\n",
      " [10 11 12 13 14]\n",
      " [15 16 17 18 19]\n",
      " [20 21 22 23 24]]\n",
      "[ 0  1  2  3  4  5  6  7  8  9 10 11 12 13 14 15 16 17 18 19 20 21 22 23\n",
      " 24]\n"
     ]
    }
   ],
   "source": [
    "arr1 = np.arange(25)\n",
    "print(arr1)\n",
    "print(arr1.shape)\n",
    "arr2 = np.resize(arr1,(5,5))\n",
    "print(arr2)\n",
    "arr2[0][0] = 100\n",
    "print(arr1)"
   ]
  },
  {
   "cell_type": "markdown",
   "metadata": {
    "vscode": {
     "languageId": "powershell"
    }
   },
   "source": [
    "### max, min, argmax, argmin"
   ]
  },
  {
   "cell_type": "code",
   "execution_count": 113,
   "metadata": {},
   "outputs": [
    {
     "name": "stdout",
     "output_type": "stream",
     "text": [
      "[88 44  6 55 63 89 20 72 90  4]\n",
      "90\n",
      "4\n",
      "8\n",
      "9\n"
     ]
    }
   ],
   "source": [
    "np.random.seed(32)\n",
    "v2 = np.random.randint(1,100,10)\n",
    "print(v2)\n",
    "print(v2.max())\n",
    "print(v2.min())\n",
    "print(v2.argmax())#找出數值最大值的index\n",
    "print(v2.argmin())#找出數值最小值的index"
   ]
  },
  {
   "cell_type": "markdown",
   "metadata": {},
   "source": [
    "### dtype\n",
    "在NumPy中，可以使用不同的數據類型（dtype）來表示陣列中的元素。以下是一些常見的dtype類型：\n",
    "\n",
    "1. **int**：整數，可以是int8、int16、int32、int64等不同大小的整數。\n",
    "2. **uint**：無符號整數，可以是uint8、uint16、uint32、uint64等不同大小的無符號整數。\n",
    "3. **float**：浮點數，可以是float16、float32、float64等不同精度的浮點數。\n",
    "4. **complex**：複數，可以是complex64、complex128等不同精度的複數。\n",
    "5. **bool**：布爾值，表示True或False。\n",
    "6. **object**：Python對象，可以是任何Python對象。\n",
    "7. **string_**：字串，固定大小的字串。\n",
    "8. **unicode_**：Unicode字串，固定大小的Unicode字串。\n"
   ]
  },
  {
   "cell_type": "code",
   "execution_count": 121,
   "metadata": {},
   "outputs": [
    {
     "name": "stdout",
     "output_type": "stream",
     "text": [
      "[1.2 3.4 5.6]\n",
      "float64\n",
      "[1.2 3.4 5.6]\n",
      "float16\n",
      "[1 3 5]\n",
      "int8\n",
      "[2147483648 3147483648 4147483648]\n",
      "int64\n",
      "[-2147483648 -1147483648  -147483648]\n",
      "int32\n"
     ]
    }
   ],
   "source": [
    "arr = np.array([1.2,3.4,5.6])\n",
    "print(arr)\n",
    "print(arr.dtype)\n",
    "arr2 = arr.astype(np.float16)\n",
    "print(arr2)\n",
    "print(arr2.dtype)\n",
    "arr3 = arr.astype(np.int8)\n",
    "print(arr3)\n",
    "print(arr3.dtype)\n",
    "\n",
    "arr4 = np.array([2147483648,3147483648,4147483648])\n",
    "print(arr4)\n",
    "print(arr4.dtype)\n",
    "arr5 = arr4.astype(np.int32)\n",
    "print(arr5)\n",
    "print(arr5.dtype)"
   ]
  },
  {
   "cell_type": "markdown",
   "metadata": {},
   "source": [
    "## 區間取值"
   ]
  },
  {
   "cell_type": "code",
   "execution_count": 129,
   "metadata": {},
   "outputs": [
    {
     "name": "stdout",
     "output_type": "stream",
     "text": [
      "[ 0  1  2  3  4  5  6  7  8  9 10]\n",
      "8\n",
      "[1 2 3 4 5]\n",
      "[ 3  4  5  6  7  8  9 10]\n",
      "[6 7 8]\n",
      "[0 1 2 3 4 5 6 7 8]\n",
      "[0 1 2 3 4 5 6 7]\n"
     ]
    }
   ],
   "source": [
    "arr = np.arange(0,11)\n",
    "print(arr)\n",
    "print(arr[8])\n",
    "print(arr[1:6])\n",
    "print(arr[3:])\n",
    "print(arr[-5:-2])\n",
    "print(arr[:-2])\n",
    "print(arr[:-3])"
   ]
  },
  {
   "cell_type": "code",
   "execution_count": 136,
   "metadata": {},
   "outputs": [
    {
     "name": "stdout",
     "output_type": "stream",
     "text": [
      "[ 0  1  2  3  4  5  6  7  8  9 10]\n",
      "[23 23 23 23 23 23 23 23 23 23 23]\n"
     ]
    }
   ],
   "source": [
    "arr = np.arange(0,11)\n",
    "print(arr)\n",
    "arr[0:5] = 23\n",
    "print(arr)"
   ]
  },
  {
   "cell_type": "code",
   "execution_count": 139,
   "metadata": {},
   "outputs": [
    {
     "name": "stdout",
     "output_type": "stream",
     "text": [
      "[10  1 10  3 10  5 10  7 10  9 10]\n"
     ]
    }
   ],
   "source": [
    "arr = np.arange(0,11)\n",
    "arr[0::2] = 10 #對所有偶數index內容改為10\n",
    "print(arr)"
   ]
  },
  {
   "cell_type": "code",
   "execution_count": 143,
   "metadata": {},
   "outputs": [
    {
     "name": "stdout",
     "output_type": "stream",
     "text": [
      "[0, 1, 2, 3, 4, 5, 6, 7, 8, 9]\n",
      "[10, 10, 10, 10, 10]\n",
      "[10, 10, 10, 10, 10, 5, 6, 7, 8, 9]\n"
     ]
    }
   ],
   "source": [
    "#List\n",
    "py_list = list(range(10))\n",
    "print(py_list)\n",
    "py_list[0:5] = [10] * 5\n",
    "print(py_list)"
   ]
  },
  {
   "cell_type": "code",
   "execution_count": 146,
   "metadata": {},
   "outputs": [
    {
     "name": "stdout",
     "output_type": "stream",
     "text": [
      "[0, 1, 2, 3, 4, 5, 6, 7, 8, 9]\n",
      "[0, 1, 2, 3, 4]\n",
      "[0, 1, 2, 3, 4, 5, 6, 7, 8, 9]\n"
     ]
    }
   ],
   "source": [
    "py_list = list(range(10))\n",
    "print(py_list)\n",
    "py_list2 = py_list[0:5]\n",
    "print(py_list2)\n",
    "py_list2[2] = 100\n",
    "print(py_list)\n"
   ]
  },
  {
   "cell_type": "code",
   "execution_count": 151,
   "metadata": {},
   "outputs": [
    {
     "name": "stdout",
     "output_type": "stream",
     "text": [
      "[ 0  1  2  3  4  5  6  7  8  9 10]\n",
      "[0 1 2 3 4 5]\n",
      "[100 100 100 100 100 100   6   7   8   9  10]\n"
     ]
    }
   ],
   "source": [
    "arr = np.arange(0,11)\n",
    "print(arr)\n",
    "arr2 = arr[0:6]\n",
    "print(arr2)\n",
    "arr2[:] = 100\n",
    "print(arr)"
   ]
  },
  {
   "cell_type": "code",
   "execution_count": 152,
   "metadata": {},
   "outputs": [
    {
     "name": "stdout",
     "output_type": "stream",
     "text": [
      "[ 0  1  2  3  4  5  6  7  8  9 10]\n",
      "[100 100 100 100 100   5   6   7   8   9  10]\n"
     ]
    }
   ],
   "source": [
    "arr = np.arange(0,11)\n",
    "\n",
    "array_copy = arr.copy()\n",
    "array_copy[:5] = 100\n",
    "\n",
    "print(arr)\n",
    "print(array_copy)\n"
   ]
  },
  {
   "cell_type": "code",
   "execution_count": 172,
   "metadata": {},
   "outputs": [
    {
     "name": "stdout",
     "output_type": "stream",
     "text": [
      "[False False False False  True  True  True  True  True  True]\n",
      "[ 5  6  7  8  9 10]\n",
      "[ 3  4  5  6  7  8  9 10]\n"
     ]
    }
   ],
   "source": [
    "arr = np.arange(1,11)\n",
    "#print(arr > 4)\n",
    "filterArray = np.array(arr > 4)\n",
    "newArry = arr[filterArray]\n",
    "print(newArry)\n",
    "\n",
    "x = 2\n",
    "newArry2 = arr[arr > x]\n",
    "print(newArry2)\n",
    "\n"
   ]
  },
  {
   "cell_type": "markdown",
   "metadata": {},
   "source": [
    "## NumPy 運算"
   ]
  },
  {
   "cell_type": "code",
   "execution_count": 163,
   "metadata": {},
   "outputs": [
    {
     "name": "stdout",
     "output_type": "stream",
     "text": [
      "[0 1 2 3 4 5 6 7 8 9]\n",
      "[10 11 12 13 14 15 16 17 18 19]\n"
     ]
    }
   ],
   "source": [
    "arr1 = np.arange(0,10)\n",
    "arr2 = np.arange(10,20)\n",
    "print(arr1)\n",
    "print(arr2)"
   ]
  },
  {
   "cell_type": "code",
   "execution_count": 164,
   "metadata": {},
   "outputs": [
    {
     "data": {
      "text/plain": [
       "array([10, 12, 14, 16, 18, 20, 22, 24, 26, 28])"
      ]
     },
     "execution_count": 164,
     "metadata": {},
     "output_type": "execute_result"
    }
   ],
   "source": [
    "arr1 + arr2"
   ]
  },
  {
   "cell_type": "code",
   "execution_count": 179,
   "metadata": {},
   "outputs": [
    {
     "name": "stdout",
     "output_type": "stream",
     "text": [
      "[ 0  5 10 15 20 25 30 35 40 45]\n",
      "[ 2  3  4  5  6  7  8  9 10 11]\n"
     ]
    }
   ],
   "source": [
    "print(arr1 * 5)\n",
    "print(arr1 + 2)"
   ]
  },
  {
   "cell_type": "code",
   "execution_count": 182,
   "metadata": {},
   "outputs": [
    {
     "name": "stdout",
     "output_type": "stream",
     "text": [
      "[0 1 2 3 4 5 6 7 8 9]\n",
      "[nan  1.  1.  1.  1.  1.  1.  1.  1.  1.]\n"
     ]
    },
    {
     "name": "stderr",
     "output_type": "stream",
     "text": [
      "C:\\Users\\xvpow\\AppData\\Local\\Temp\\ipykernel_12540\\1693414760.py:3: RuntimeWarning: invalid value encountered in divide\n",
      "  print(arr1 / arr1)\n"
     ]
    }
   ],
   "source": [
    "arr1 = np.arange(0,10)\n",
    "print(arr1)\n",
    "print(arr1 / arr1)"
   ]
  },
  {
   "cell_type": "code",
   "execution_count": 200,
   "metadata": {},
   "outputs": [
    {
     "name": "stdout",
     "output_type": "stream",
     "text": [
      "[       inf 1.         0.5        0.33333333 0.25       0.2\n",
      " 0.16666667 0.14285714]\n",
      "[1 2 3 4 5 6 7]\n",
      "[0 1 2 3 4 5 6 7]\n",
      "[0.00000000e+000 4.49423284e+307 8.98846567e+307 1.34826985e+308\n",
      "             inf             inf             inf             inf]\n",
      "2.2250738585072014e-308\n"
     ]
    },
    {
     "name": "stderr",
     "output_type": "stream",
     "text": [
      "C:\\Users\\xvpow\\AppData\\Local\\Temp\\ipykernel_12540\\2989877102.py:2: RuntimeWarning: divide by zero encountered in divide\n",
      "  print(1/arr1)#在 NumPy 中，當運算結果超出數值的極限，導致無窮大（infinity）的情況時\n",
      "C:\\Users\\xvpow\\AppData\\Local\\Temp\\ipykernel_12540\\2989877102.py:3: RuntimeWarning: divide by zero encountered in divide\n",
      "  newArray = 1/arr1\n",
      "C:\\Users\\xvpow\\AppData\\Local\\Temp\\ipykernel_12540\\2989877102.py:5: RuntimeWarning: overflow encountered in divide\n",
      "  result = arr1 / np.finfo(float).tiny\n"
     ]
    }
   ],
   "source": [
    "arr1 = np.arange(0,8)\n",
    "print(1/arr1)#在 NumPy 中，當運算結果超出數值的極限，導致無窮大（infinity）的情況時\n",
    "newArray = 1/arr1 \n",
    "print(arr1[newArray != np.inf])\n",
    "result = arr1 / np.finfo(float).tiny\n",
    "print(arr1)\n",
    "print(result)\n",
    "print(np.finfo(float).tiny)"
   ]
  },
  {
   "cell_type": "code",
   "execution_count": 197,
   "metadata": {},
   "outputs": [
    {
     "name": "stdout",
     "output_type": "stream",
     "text": [
      "[0 1 2 3 4 5 6 7 8 9]\n",
      "[1.00000000e+00 2.71828183e+00 7.38905610e+00 2.00855369e+01\n",
      " 5.45981500e+01 1.48413159e+02 4.03428793e+02 1.09663316e+03\n",
      " 2.98095799e+03 8.10308393e+03]\n",
      "[1.00000000e+00 3.67879441e-01 1.35335283e-01 4.97870684e-02\n",
      " 1.83156389e-02 6.73794700e-03 2.47875218e-03 9.11881966e-04\n",
      " 3.35462628e-04 1.23409804e-04]\n"
     ]
    }
   ],
   "source": [
    "arr1 = np.arange(0,10)\n",
    "print(arr1)\n",
    "print(np.exp(arr1))#e的指數\n",
    "print(np.exp(-arr1))"
   ]
  },
  {
   "cell_type": "markdown",
   "metadata": {},
   "source": [
    "在 NumPy 中使用 `np.log(arr)` 的意思是對 `arr` 這個陣列中的每個元素進行自然對數運算。這個函數計算的是以 e (約等於 2.71828) 為底的對數。"
   ]
  },
  {
   "cell_type": "code",
   "execution_count": 202,
   "metadata": {},
   "outputs": [
    {
     "name": "stdout",
     "output_type": "stream",
     "text": [
      "[ 1  2  3  4  5  6  7  8  9 10]\n"
     ]
    },
    {
     "data": {
      "text/plain": [
       "array([0.        , 0.69314718, 1.09861229, 1.38629436, 1.60943791,\n",
       "       1.79175947, 1.94591015, 2.07944154, 2.19722458, 2.30258509])"
      ]
     },
     "execution_count": 202,
     "metadata": {},
     "output_type": "execute_result"
    }
   ],
   "source": [
    "print(arr)\n",
    "np.log(arr)"
   ]
  },
  {
   "cell_type": "code",
   "execution_count": 208,
   "metadata": {},
   "outputs": [
    {
     "name": "stdout",
     "output_type": "stream",
     "text": [
      "[inf]\n",
      "[    inf     inf 3.e+305]\n"
     ]
    },
    {
     "name": "stderr",
     "output_type": "stream",
     "text": [
      "C:\\Users\\xvpow\\AppData\\Local\\Temp\\ipykernel_12540\\479865435.py:4: RuntimeWarning: overflow encountered in multiply\n",
      "  print(a2 * 2)\n"
     ]
    }
   ],
   "source": [
    "a1 = np.array([1e308 * 10]) \n",
    "print(a1)\n",
    "a2 = np.array([1e308 ,1.5e308 ,1.5e305]) \n",
    "print(a2 * 2)"
   ]
  },
  {
   "cell_type": "markdown",
   "metadata": {},
   "source": [
    "## 軸邏輯\n",
    "在處理二維陣列（矩陣）時，我們必須考慮行和列。當我們進入到 pandas 的相關部分時，這會變得非常重要。在陣列中，軸 0（零）代表垂直軸（行），而軸 1 則是水平軸（列）。這些值（0,1）對應於 `arr.shape` 返回值的順序。\n",
    "\n",
    "讓我們看看這如何影響我們上面提到的摘要統計計算：\n",
    "\n",
    "- 當使用軸 0 進行操作時，意味著沿著行（垂直方向）進行計算，將每一列的值聚合起來。例如，計算每一列的總和或平均值。\n",
    "- 當使用軸 1 進行操作時，則沿著列（水平方向）進行計算，將每一行的值聚合起來。例如，計算每一行的總和或平均值。\n",
    "\n",
    "這種區分在進行統計分析時非常重要，它確保你可以按照期望的方向對數據進行操作。這種對軸的理解同樣適用於更高維度的數據處理。讓我們看一個例子，如果有一個矩陣 `arr` 如下所示：\n",
    "```\n",
    "[[1, 2, 3],\n",
    " [4, 5, 6],\n",
    " [7, 8, 9]]\n",
    "```\n",
    "- 使用 `np.sum(arr, axis=0)` 將返回每一列的總和：`[12, 15, 18]`\n",
    "- 使用 `np.sum(arr, axis=1)` 將返回每一行的總和：`[6, 15, 24]`\n",
    "\n",
    "這樣的操作讓我們可以根據具體需求選擇適當的軸進行數據統計。"
   ]
  },
  {
   "cell_type": "code",
   "execution_count": 209,
   "metadata": {},
   "outputs": [
    {
     "data": {
      "text/plain": [
       "array([[ 1,  2,  3,  4],\n",
       "       [ 5,  6,  7,  8],\n",
       "       [ 9, 10, 11, 12]])"
      ]
     },
     "execution_count": 209,
     "metadata": {},
     "output_type": "execute_result"
    }
   ],
   "source": [
    "arr_2d = np.array([[1,2,3,4],[5,6,7,8],[9,10,11,12]])\n",
    "arr_2d"
   ]
  },
  {
   "cell_type": "code",
   "execution_count": 210,
   "metadata": {},
   "outputs": [
    {
     "data": {
      "text/plain": [
       "78"
      ]
     },
     "execution_count": 210,
     "metadata": {},
     "output_type": "execute_result"
    }
   ],
   "source": [
    "arr_2d.sum()"
   ]
  },
  {
   "cell_type": "code",
   "execution_count": 211,
   "metadata": {},
   "outputs": [
    {
     "data": {
      "text/plain": [
       "array([15, 18, 21, 24])"
      ]
     },
     "execution_count": 211,
     "metadata": {},
     "output_type": "execute_result"
    }
   ],
   "source": [
    "arr_2d.sum(axis=0)"
   ]
  },
  {
   "cell_type": "code",
   "execution_count": 212,
   "metadata": {},
   "outputs": [
    {
     "data": {
      "text/plain": [
       "array([10, 26, 42])"
      ]
     },
     "execution_count": 212,
     "metadata": {},
     "output_type": "execute_result"
    }
   ],
   "source": [
    "arr_2d.sum(axis=1)"
   ]
  },
  {
   "cell_type": "code",
   "execution_count": null,
   "metadata": {},
   "outputs": [],
   "source": []
  }
 ],
 "metadata": {
  "kernelspec": {
   "display_name": "base",
   "language": "python",
   "name": "python3"
  },
  "language_info": {
   "codemirror_mode": {
    "name": "ipython",
    "version": 3
   },
   "file_extension": ".py",
   "mimetype": "text/x-python",
   "name": "python",
   "nbconvert_exporter": "python",
   "pygments_lexer": "ipython3",
   "version": "3.11.8"
  }
 },
 "nbformat": 4,
 "nbformat_minor": 2
}
